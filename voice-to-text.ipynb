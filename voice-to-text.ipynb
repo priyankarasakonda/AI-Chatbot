{
 "cells": [
  {
   "cell_type": "code",
   "execution_count": 1,
   "id": "364dd267",
   "metadata": {},
   "outputs": [],
   "source": [
    "# Python program to translate\n",
    "# speech to text and text to speech\n",
    "\n",
    "import speech_recognition as sr\n",
    "import pyttsx3\n",
    "\n",
    "# Initialize the recognizer\n",
    "r = sr.Recognizer()"
   ]
  },
  {
   "cell_type": "code",
   "execution_count": 2,
   "id": "59ee3331",
   "metadata": {},
   "outputs": [],
   "source": [
    "import pyttsx3\n",
    "# Function to convert text to speech\n",
    "def SpeakText(command):\n",
    "    # Initialize the engine\n",
    "    engine = pyttsx3.init()\n",
    "    engine.say(command)\n",
    "    engine.runAndWait()\n",
    "\n",
    "SpeakText(MyText)"
   ]
  },
  {
   "cell_type": "code",
   "execution_count": null,
   "id": "fe4ec58e",
   "metadata": {},
   "outputs": [
    {
     "name": "stdout",
     "output_type": "stream",
     "text": [
      "unknown error occurred\n",
      "Did you say  hi how are you\n",
      "Did you say  i'm doing good how about you orlando ah yes\n",
      "Did you say  i'm going to go to monday now\n"
     ]
    },
    {
     "name": "stderr",
     "output_type": "stream",
     "text": [
      "Exception ignored in: <function BSTR.__del__ at 0x000001ECD89EE700>\n",
      "Traceback (most recent call last):\n",
      "  File \"C:\\Users\\bnite\\anaconda3\\lib\\site-packages\\comtypes\\__init__.py\", line 999, in __del__\n",
      "    def __del__(self, _free=windll.oleaut32.SysFreeString):\n",
      "KeyboardInterrupt: \n"
     ]
    },
    {
     "name": "stdout",
     "output_type": "stream",
     "text": [
      "unknown error occurred\n",
      "unknown error occurred\n",
      "unknown error occurred\n",
      "unknown error occurred\n",
      "unknown error occurred\n",
      "unknown error occurred\n"
     ]
    }
   ],
   "source": [
    "# Loop infinitely for user to speak\n",
    "\n",
    "while (1):\n",
    "\n",
    "    # Exception handling to handle exceptions at the runtime\n",
    "    try:\n",
    "\n",
    "        # use the microphone as source for input.\n",
    "        with sr.Microphone() as source2:\n",
    "\n",
    "            # wait for a second to let the recognizer\n",
    "            # adjust the energy threshold based on\n",
    "            # the surrounding noise level\n",
    "            r.adjust_for_ambient_noise(source2, duration=0.2)\n",
    "\n",
    "            # listens for the user's input\n",
    "            audio2 = r.listen(source2)\n",
    "\n",
    "            # Using google to recognize audio\n",
    "            MyText = r.recognize_google(audio2)\n",
    "            MyText = MyText.lower()\n",
    "\n",
    "            print(\"Did you say \", MyText)\n",
    "            SpeakText(MyText)\n",
    "\n",
    "    except sr.RequestError as e:\n",
    "        print(\"Could not request results; {0}\".format(e))\n",
    "\n",
    "    except sr.UnknownValueError:\n",
    "        print(\"unknown error occurred\")\n"
   ]
  },
  {
   "cell_type": "code",
   "execution_count": null,
   "id": "08a02b8f",
   "metadata": {},
   "outputs": [],
   "source": [
    "import speech_recognition as sr\n",
    "# Initialize the recognizer\n",
    "r = sr.Recognizer()\n",
    "\n",
    "while (1):\n",
    "\n",
    "    # use the microphone as source for input.\n",
    "    with sr.Microphone() as source2:\n",
    "\n",
    "        # wait for a second to let the recognizer\n",
    "        # adjust the energy threshold based on\n",
    "        # the surrounding noise level\n",
    "        r.adjust_for_ambient_noise(source2, duration=0.2)\n",
    "\n",
    "        # listens for the user's input\n",
    "        audio2 = r.listen(source2)\n",
    "\n",
    "        # Using google to recognize audio\n",
    "        MyText = r.recognize_google(audio2)\n",
    "        MyText = MyText.lower()\n"
   ]
  }
 ],
 "metadata": {
  "kernelspec": {
   "display_name": "Python 3 (ipykernel)",
   "language": "python",
   "name": "python3"
  },
  "language_info": {
   "codemirror_mode": {
    "name": "ipython",
    "version": 3
   },
   "file_extension": ".py",
   "mimetype": "text/x-python",
   "name": "python",
   "nbconvert_exporter": "python",
   "pygments_lexer": "ipython3",
   "version": "3.9.13"
  }
 },
 "nbformat": 4,
 "nbformat_minor": 5
}
